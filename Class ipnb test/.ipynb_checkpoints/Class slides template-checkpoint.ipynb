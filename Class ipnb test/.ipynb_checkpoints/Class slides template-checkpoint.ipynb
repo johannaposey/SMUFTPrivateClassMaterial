{
 "cells": [
  {
   "cell_type": "markdown",
   "metadata": {},
   "source": [
    "![slide](Images/Slides/Slide1.png)"
   ]
  },
  {
   "cell_type": "markdown",
   "metadata": {},
   "source": [
    "![slide](Images/Slides/Slide2.png)"
   ]
  },
  {
   "cell_type": "markdown",
   "metadata": {},
   "source": [
    "# Refresher Time!"
   ]
  },
  {
   "cell_type": "markdown",
   "metadata": {},
   "source": [
    "![slide](Images/Slides/Slide3.png)"
   ]
  },
  {
   "cell_type": "markdown",
   "metadata": {},
   "source": [
    "![slide](Images/Slides/Slide4.png)"
   ]
  },
  {
   "cell_type": "markdown",
   "metadata": {},
   "source": [
    "# Refresher Activity Review"
   ]
  },
  {
   "cell_type": "code",
   "execution_count": 7,
   "metadata": {},
   "outputs": [],
   "source": [
    "# %load \"marketing.py\"\n",
    "\"\"\"Refresher activity.\n",
    "\n",
    "This script will use variables, conditionals, lists, dicts, and functions\n",
    "to print out different greetings for customers based on their\n",
    "business tier (determined by revenue).\n",
    "\"\"\"\n",
    "\n",
    "# List of dicts\n",
    "customers = [\n",
    "    { \"first_name\": \"Tom\", \"last_name\": \"Bell\", \"revenue\": 0 },\n",
    "    { \"first_name\": \"Maggie\", \"last_name\": \"Johnson\", \"revenue\": 1032 },\n",
    "    { \"first_name\": \"John\", \"last_name\": \"Spectre\", \"revenue\": 2543 },\n",
    "    { \"first_name\": \"Susy\", \"last_name\": \"Simmons\", \"revenue\": 5322 }\n",
    "]\n",
    "\n",
    "# Define a function that accepts a customer first_name, last_name,\n",
    "# and revenue and returns a custom greeting using the full name.\n",
    "# Use these ranges to determine the business tier (and corresponding message)\n",
    "# for each customer.\n",
    "#   Platinum = 3001+\n",
    "#   Gold = 2001-3000\n",
    "#   Silver = 1001-2000\n",
    "#   Bronze = 0-1000\n",
    "def create_greeting(first_name, last_name, revenue):\n",
    "    \"\"\"Creates a customer greeting based on revenue status.\n",
    "\n",
    "    Args:\n",
    "        first_name (str): The first name of the customer.\n",
    "        last_name (str): The last name of the customer.\n",
    "        revenue (int): The revenue of the customer.\n",
    "\n",
    "    Returns:\n",
    "        A customized greeting string.\n",
    "    \"\"\"\n",
    "\n",
    "    if revenue > 3000:\n",
    "        greeting = f\"Hi {first_name} {last_name}! Thank you for your business of ${revenue}! You are a platinum member.\"\n",
    "    elif (revenue > 2000 and revenue <= 3000):\n",
    "        greeting = f\"Hi {first_name} {last_name}! Thank you for your business of ${revenue}! You are a gold member.\"\n",
    "    elif (revenue > 1000 and revenue <= 2000):\n",
    "        greeting = f\"Hi {first_name} {last_name}! Thank you for your business of ${revenue}! You are a silver member.\"\n",
    "    elif (revenue >= 0  and revenue <= 1000):\n",
    "        greeting = f\"Hi {first_name} {last_name}! Thank you for your business of ${revenue}! You are a bronze member.\"\n",
    "\n",
    "    return greeting\n",
    "\n",
    "# Loop through the list of customers and use your function to print custom greetings for each customer.\n",
    "for customer in customers:\n",
    "    greeting = create_greeting(customer['first_name'], customer['last_name'], customer['revenue'])\n",
    "    print(greeting)\n"
   ]
  },
  {
   "cell_type": "markdown",
   "metadata": {},
   "source": [
    "![slide](Images/Slides/Slide5.png)"
   ]
  },
  {
   "cell_type": "markdown",
   "metadata": {},
   "source": [
    "![slide](Images/Slides/Slide6.png)"
   ]
  },
  {
   "cell_type": "markdown",
   "metadata": {},
   "source": [
    "![slide](Images/Slides/Slide7.png)"
   ]
  },
  {
   "cell_type": "markdown",
   "metadata": {},
   "source": [
    "![slide](Images/Slides/Slide8.png)"
   ]
  },
  {
   "cell_type": "markdown",
   "metadata": {},
   "source": [
    "![slide](Images/Slides/Slide9.png)"
   ]
  },
  {
   "cell_type": "markdown",
   "metadata": {},
   "source": [
    "![slide](Images/Slides/Slide10.png)"
   ]
  },
  {
   "cell_type": "markdown",
   "metadata": {},
   "source": [
    "![slide](Images/Slides/Slide11.png)"
   ]
  },
  {
   "cell_type": "markdown",
   "metadata": {},
   "source": [
    "![slide](Images/Slides/Slide12.png)"
   ]
  },
  {
   "cell_type": "markdown",
   "metadata": {},
   "source": [
    "![slide](Images/Slides/Slide13.png)"
   ]
  },
  {
   "cell_type": "markdown",
   "metadata": {},
   "source": [
    "![slide](Images/Slides/Slide14.png)"
   ]
  },
  {
   "cell_type": "markdown",
   "metadata": {},
   "source": [
    "![slide](Images/Slides/Slide15.png)"
   ]
  },
  {
   "cell_type": "markdown",
   "metadata": {},
   "source": [
    "![slide](Images/Slides/Slide16.png)"
   ]
  },
  {
   "cell_type": "markdown",
   "metadata": {},
   "source": [
    "![slide](Images/Slides/Slide17.png)"
   ]
  },
  {
   "cell_type": "markdown",
   "metadata": {},
   "source": [
    "![slide](Images/Slides/Slide18.png)"
   ]
  },
  {
   "cell_type": "markdown",
   "metadata": {},
   "source": [
    "![slide](Images/Slides/Slide19.png)"
   ]
  },
  {
   "cell_type": "markdown",
   "metadata": {},
   "source": [
    "# Demo"
   ]
  },
  {
   "cell_type": "markdown",
   "metadata": {},
   "source": [
    "![slide](Images/Slides/Slide20.png)"
   ]
  },
  {
   "cell_type": "markdown",
   "metadata": {},
   "source": [
    "![slide](Images/Slides/Slide21.png)"
   ]
  },
  {
   "cell_type": "markdown",
   "metadata": {},
   "source": [
    "![slide](Images/Slides/Slide22.png)"
   ]
  },
  {
   "cell_type": "markdown",
   "metadata": {},
   "source": [
    "![slide](Images/Slides/Slide23.png)"
   ]
  },
  {
   "cell_type": "markdown",
   "metadata": {},
   "source": [
    "![slide](Images/Slides/Slide24.png)"
   ]
  },
  {
   "cell_type": "markdown",
   "metadata": {},
   "source": [
    "![slide](Images/Slides/Slide25.png)"
   ]
  },
  {
   "cell_type": "markdown",
   "metadata": {},
   "source": [
    "![slide](Images/Slides/Slide26.png)"
   ]
  },
  {
   "cell_type": "markdown",
   "metadata": {},
   "source": [
    "![slide](Images/Slides/Slide27.png)"
   ]
  },
  {
   "cell_type": "markdown",
   "metadata": {},
   "source": [
    "![slide](Images/Slides/Slide28.png)"
   ]
  },
  {
   "cell_type": "markdown",
   "metadata": {},
   "source": [
    "![slide](Images/Slides/Slide29.png)"
   ]
  },
  {
   "cell_type": "markdown",
   "metadata": {},
   "source": [
    "![slide](Images/Slides/Slide30.png)"
   ]
  },
  {
   "cell_type": "markdown",
   "metadata": {},
   "source": [
    "![slide](Images/Slides/Slide31.png)"
   ]
  },
  {
   "cell_type": "markdown",
   "metadata": {},
   "source": [
    "![slide](Images/Slides/Slide32.png)"
   ]
  },
  {
   "cell_type": "markdown",
   "metadata": {},
   "source": [
    "![slide](Images/Slides/Slide33.png)"
   ]
  },
  {
   "cell_type": "markdown",
   "metadata": {},
   "source": [
    "![slide](Images/Slides/Slide34.png)"
   ]
  },
  {
   "cell_type": "markdown",
   "metadata": {},
   "source": [
    "![slide](Images/Slides/Slide35.png)"
   ]
  },
  {
   "cell_type": "markdown",
   "metadata": {},
   "source": [
    "![slide](Images/Slides/Slide36.png)"
   ]
  },
  {
   "cell_type": "markdown",
   "metadata": {},
   "source": [
    "![slide](Images/Slides/Slide37.png)"
   ]
  },
  {
   "cell_type": "markdown",
   "metadata": {},
   "source": [
    "![slide](Images/Slides/Slide38.png)"
   ]
  },
  {
   "cell_type": "markdown",
   "metadata": {},
   "source": [
    "![slide](Images/Slides/Slide39.png)"
   ]
  },
  {
   "cell_type": "markdown",
   "metadata": {},
   "source": [
    "![slide](Images/Slides/Slide40.png)"
   ]
  },
  {
   "cell_type": "markdown",
   "metadata": {},
   "source": [
    "![slide](Images/Slides/Slide41.png)"
   ]
  },
  {
   "cell_type": "markdown",
   "metadata": {},
   "source": [
    "![slide](Images/Slides/Slide42.png)"
   ]
  },
  {
   "cell_type": "markdown",
   "metadata": {},
   "source": [
    "![slide](Images/Slides/Slide43.png)"
   ]
  },
  {
   "cell_type": "markdown",
   "metadata": {},
   "source": [
    "![slide](Images/Slides/Slide44.png)"
   ]
  },
  {
   "cell_type": "markdown",
   "metadata": {},
   "source": [
    "![slide](Images/Slides/Slide44.png)"
   ]
  },
  {
   "cell_type": "markdown",
   "metadata": {},
   "source": [
    "![slide](Images/Slides/Slide44.png)"
   ]
  },
  {
   "cell_type": "markdown",
   "metadata": {},
   "source": [
    "![slide](Images/Slides/Slide44.png)"
   ]
  }
 ],
 "metadata": {
  "kernelspec": {
   "display_name": "Python 3",
   "language": "python",
   "name": "python3"
  },
  "language_info": {
   "codemirror_mode": {
    "name": "ipython",
    "version": 3
   },
   "file_extension": ".py",
   "mimetype": "text/x-python",
   "name": "python",
   "nbconvert_exporter": "python",
   "pygments_lexer": "ipython3",
   "version": "3.7.6"
  }
 },
 "nbformat": 4,
 "nbformat_minor": 4
}
